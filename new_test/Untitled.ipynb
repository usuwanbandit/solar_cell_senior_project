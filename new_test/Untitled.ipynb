{
 "cells": [
  {
   "cell_type": "code",
   "execution_count": 5,
   "metadata": {},
   "outputs": [
    {
     "ename": "ModuleNotFoundError",
     "evalue": "No module named 'solcore'",
     "output_type": "error",
     "traceback": [
      "\u001b[1;31m---------------------------------------------------------------------------\u001b[0m",
      "\u001b[1;31mModuleNotFoundError\u001b[0m                       Traceback (most recent call last)",
      "Cell \u001b[1;32mIn[5], line 1\u001b[0m\n\u001b[1;32m----> 1\u001b[0m \u001b[38;5;28;01mimport\u001b[39;00m \u001b[38;5;21;01msolcore\u001b[39;00m\n\u001b[0;32m      3\u001b[0m \u001b[38;5;66;03m# Composition parameter for Al0.3Ga0.7As\u001b[39;00m\n\u001b[0;32m      4\u001b[0m x \u001b[38;5;241m=\u001b[39m \u001b[38;5;241m0.3\u001b[39m\n",
      "\u001b[1;31mModuleNotFoundError\u001b[0m: No module named 'solcore'"
     ]
    }
   ],
   "source": [
    "import solcore\n",
    "\n",
    "# Composition parameter for Al0.3Ga0.7As\n",
    "x = 0.3\n",
    "\n",
    "# Carrier type (n for electrons, p for holes)\n",
    "carrier_type = 'n'  # Calculate electron mobility\n",
    "\n",
    "# Temperature in Kelvin\n",
    "temperature = 300  # Example temperature\n",
    "\n",
    "# Calculate the carrier mobility\n",
    "mobility = solcore.material_data.mobility.calculate_AlGaAs(x, carrier_type, temperature)\n",
    "\n",
    "# Print the result\n",
    "print(\"Carrier mobility for Al0.3Ga0.7As ({}-type) at {} K: {} cm^2/Vs\".format(carrier_type, temperature, mobility))"
   ]
  },
  {
   "cell_type": "code",
   "execution_count": 4,
   "id": "2ef23ed0",
   "metadata": {},
   "outputs": [
    {
     "name": "stderr",
     "output_type": "stream",
     "text": [
      "'pip' is not recognized as an internal or external command,\n",
      "operable program or batch file.\n"
     ]
    }
   ],
   "source": [
    "!pip install solcore"
   ]
  },
  {
   "cell_type": "code",
   "execution_count": null,
   "id": "fbd5002f",
   "metadata": {},
   "outputs": [],
   "source": []
  }
 ],
 "metadata": {
  "kernelspec": {
   "display_name": "Python 3",
   "language": "python",
   "name": "python3"
  },
  "language_info": {
   "codemirror_mode": {
    "name": "ipython",
    "version": 3
   },
   "file_extension": ".py",
   "mimetype": "text/x-python",
   "name": "python",
   "nbconvert_exporter": "python",
   "pygments_lexer": "ipython3",
   "version": "3.11.7"
  }
 },
 "nbformat": 4,
 "nbformat_minor": 5
}
